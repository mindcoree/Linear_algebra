{
 "cells": [
  {
   "metadata": {},
   "cell_type": "markdown",
   "source": "# Practice on vectors in Linear Algebra ",
   "id": "235aeda1c7bd0d96"
  },
  {
   "metadata": {},
   "cell_type": "markdown",
   "source": "### Types of vector creation",
   "id": "a164051928adb523"
  },
  {
   "cell_type": "code",
   "id": "initial_id",
   "metadata": {
    "collapsed": true,
    "ExecuteTime": {
     "end_time": "2025-03-16T06:59:03.181829Z",
     "start_time": "2025-03-16T06:59:03.171313Z"
    }
   },
   "source": [
    "import numpy as np\n",
    "from numpy.f2py.func2subr import var2fixfortran\n",
    "\n",
    "asList = [1,2,3]\n",
    "asArray = np.array([1,2,3])\n",
    "rowVector = np.array([ [1,2,3] ])\n",
    "columnVector = np.array([ [1],[2],[3] ])\n",
    "rowVector.T"
   ],
   "outputs": [
    {
     "data": {
      "text/plain": [
       "array([[1],\n",
       "       [2],\n",
       "       [3]])"
      ]
     },
     "execution_count": 13,
     "metadata": {},
     "output_type": "execute_result"
    }
   ],
   "execution_count": 13
  },
  {
   "metadata": {},
   "cell_type": "markdown",
   "source": "## Check out the outline",
   "id": "a9a491ccf6a48683"
  },
  {
   "metadata": {
    "ExecuteTime": {
     "end_time": "2025-03-16T07:01:07.061774Z",
     "start_time": "2025-03-16T07:01:07.049613Z"
    }
   },
   "cell_type": "code",
   "source": [
    "print(f\"asList:{np.shape(asList)}\")\n",
    "print(f\"asArray:{asArray.shape}\") \n",
    "print(f\"rowVector:{rowVector.shape}\")\n",
    "print(f\"columnVector:{columnVector.shape}\")\n"
   ],
   "id": "a6573891f58bdf64",
   "outputs": [
    {
     "name": "stdout",
     "output_type": "stream",
     "text": [
      "asList:(3,)\n",
      "asArray:(3,)\n",
      "rowVector:(1, 3)\n",
      "columnVector:(3, 1)\n"
     ]
    }
   ],
   "execution_count": 15
  },
  {
   "metadata": {},
   "cell_type": "markdown",
   "source": "### Vector addition",
   "id": "5baca6bea04504fe"
  },
  {
   "metadata": {
    "ExecuteTime": {
     "end_time": "2025-03-16T11:18:10.147253Z",
     "start_time": "2025-03-16T11:18:08.668436Z"
    }
   },
   "cell_type": "code",
   "source": [
    "import numpy as np\n",
    "vec1 = np.array([[1],[2],[3]])\n",
    "vec2 = np.array([[10],[20],[30]])\n",
    "vec_add_1 = np.add(vec1,vec2)\n",
    "print(vec_add_1,end='\\n\\n')\n",
    "vec_add_2  = vec1 + vec2\n",
    "print(vec_add_2)"
   ],
   "id": "d1774389fca0de0",
   "outputs": [
    {
     "name": "stdout",
     "output_type": "stream",
     "text": [
      "[[11]\n",
      " [22]\n",
      " [33]]\n",
      "\n",
      "[[11]\n",
      " [22]\n",
      " [33]]\n"
     ]
    }
   ],
   "execution_count": 2
  },
  {
   "metadata": {},
   "cell_type": "markdown",
   "source": "### Vector subtract",
   "id": "bc684cc4123d880"
  },
  {
   "metadata": {
    "ExecuteTime": {
     "end_time": "2025-03-16T07:04:21.654033Z",
     "start_time": "2025-03-16T07:04:21.647567Z"
    }
   },
   "cell_type": "code",
   "source": [
    "vec1 = np.array([[1],[2],[3]])\n",
    "vec2 = np.array([[10],[20],[30]])\n",
    "vec_sub_1 = np.subtract(vec2,vec1)\n",
    "print(vec_sub_1,end='\\n\\n')\n",
    "vec_sub_2 = vec2 - vec1\n",
    "print(vec_sub_2)"
   ],
   "id": "478801912fbea1ad",
   "outputs": [
    {
     "name": "stdout",
     "output_type": "stream",
     "text": [
      "[[ 9]\n",
      " [18]\n",
      " [27]]\n",
      "\n",
      "[[ 9]\n",
      " [18]\n",
      " [27]]\n"
     ]
    }
   ],
   "execution_count": 35
  },
  {
   "metadata": {},
   "cell_type": "markdown",
   "source": "### vector multiplication by scalar",
   "id": "f9340037d6c5dd9a"
  },
  {
   "metadata": {
    "ExecuteTime": {
     "end_time": "2025-03-15T15:30:36.490170Z",
     "start_time": "2025-03-15T15:30:36.475603Z"
    }
   },
   "cell_type": "code",
   "source": [
    "vector = np.array([ [2,10,9] ])\n",
    "scalar = 5\n",
    "print(np.multiply(vector,5))\n",
    "print(vector * scalar)"
   ],
   "id": "7a79b0ac911aa793",
   "outputs": [
    {
     "name": "stdout",
     "output_type": "stream",
     "text": [
      "[[10 50 45]]\n",
      "[[10 50 45]]\n"
     ]
    }
   ],
   "execution_count": 33
  },
  {
   "metadata": {},
   "cell_type": "markdown",
   "source": "### Vector norm and mathematical dimension",
   "id": "eb7d62edd5c8a442"
  },
  {
   "metadata": {
    "ExecuteTime": {
     "end_time": "2025-03-16T07:07:36.924432Z",
     "start_time": "2025-03-16T07:07:36.919267Z"
    }
   },
   "cell_type": "code",
   "source": [
    "vector = np.array([1, 2, 3, 7, 8, 9])\n",
    "vector_math_dimension = len(vector) #length\n",
    "vector_norm = np.linalg.norm(vector)\n",
    "print(f\"Norm vector: {vector_norm}\")\n",
    "print(f\"Length vector:{vector_math_dimension}\")"
   ],
   "id": "3bb68d586a2ca720",
   "outputs": [
    {
     "name": "stdout",
     "output_type": "stream",
     "text": [
      "Norm vector: 14.422205101855956\n",
      "Length vector:6\n"
     ]
    }
   ],
   "execution_count": 41
  },
  {
   "metadata": {},
   "cell_type": "markdown",
   "source": "### Zero vector",
   "id": "7587826b3772fd78"
  },
  {
   "metadata": {
    "ExecuteTime": {
     "end_time": "2025-03-16T07:07:38.800219Z",
     "start_time": "2025-03-16T07:07:38.792396Z"
    }
   },
   "cell_type": "code",
   "source": [
    "vector = np.array([1, 2, 3, 7, 8, 9])\n",
    "zero_vector = np.multiply(vector,1/vector_norm)\n",
    "print(zero_vector)\n",
    "print(f\"Norm zero vector: {np.linalg.norm(zero_vector)}\")"
   ],
   "id": "a10203ac83cea114",
   "outputs": [
    {
     "name": "stdout",
     "output_type": "stream",
     "text": [
      "[0.06933752 0.13867505 0.20801257 0.48536267 0.5547002  0.62403772]\n",
      "Norm zero vector: 1.0\n"
     ]
    }
   ],
   "execution_count": 42
  },
  {
   "metadata": {},
   "cell_type": "markdown",
   "source": "### Dot product of vectors",
   "id": "ded30daafe6e456d"
  },
  {
   "metadata": {
    "ExecuteTime": {
     "end_time": "2025-03-16T11:30:11.796607Z",
     "start_time": "2025-03-16T11:30:11.789305Z"
    }
   },
   "cell_type": "code",
   "source": [
    "vector_first = np.array([1,2,3,4])\n",
    "vector_second = np.array([5,6,7,8])\n",
    "v_row = np.array([[1],[2],[3],[4]]).T\n",
    "v_col = np.array([[5],[6],[7],[8]])\n",
    "print(np.dot(vector_first,vector_second))\n",
    "res_number = 0\n",
    "res_list = list()\n",
    "for index in range(len(vector_second)):\n",
    "    res_number += vector_second[index]*vector_first[index]\n",
    "    res_list.append(vector_second[index]*vector_first[index])\n",
    "else:\n",
    "    res_list = sum(res_list)\n",
    "    \n",
    "print(sum(vector_first*vector_second))\n",
    "print(res_list,res_number)\n",
    "print(*np.dot(v_row,v_col)[0])\n"
   ],
   "id": "da436f3fb702fd86",
   "outputs": [
    {
     "name": "stdout",
     "output_type": "stream",
     "text": [
      "70\n",
      "70\n",
      "70 70\n",
      "70\n"
     ]
    }
   ],
   "execution_count": 29
  },
  {
   "metadata": {},
   "cell_type": "markdown",
   "source": "### Tensor product",
   "id": "e47ec5504f048722"
  },
  {
   "metadata": {
    "ExecuteTime": {
     "end_time": "2025-03-16T11:54:10.878197Z",
     "start_time": "2025-03-16T11:54:10.870712Z"
    }
   },
   "cell_type": "code",
   "source": [
    "from sympy import symbols\n",
    "a,b,c,d,e = symbols('a b c d e')\n",
    "v1_symbols = np.array([[a],[b],[c]])\n",
    "v2_symbols = np.array([[d],[e]]).T\n",
    "print(np.dot(v1_symbols,v2_symbols),np.outer(v1_symbols,v2_symbols),sep='\\n')\n",
    "v1_numbers = np.array([[1],[2],[3]])\n",
    "v2_numbers = np.array([[4],[5]]).T\n",
    "print(np.dot(v1_numbers,v2_numbers),np.outer(v1_numbers,v2_numbers),sep='\\n')"
   ],
   "id": "6b64f2952578663c",
   "outputs": [
    {
     "name": "stdout",
     "output_type": "stream",
     "text": [
      "[[a*d a*e]\n",
      " [b*d b*e]\n",
      " [c*d c*e]]\n",
      "[[a*d a*e]\n",
      " [b*d b*e]\n",
      " [c*d c*e]]\n",
      "[[ 4  5]\n",
      " [ 8 10]\n",
      " [12 15]]\n",
      "[[ 4  5]\n",
      " [ 8 10]\n",
      " [12 15]]\n"
     ]
    }
   ],
   "execution_count": 46
  },
  {
   "metadata": {},
   "cell_type": "markdown",
   "source": "## Orthogonal decomposition of vectors",
   "id": "322f6d1a2d13c77e"
  },
  {
   "metadata": {
    "ExecuteTime": {
     "end_time": "2025-03-16T14:03:44.706084Z",
     "start_time": "2025-03-16T14:03:44.441955Z"
    }
   },
   "cell_type": "code",
   "source": [
    "import numpy as np\n",
    "import matplotlib.pyplot as plt\n",
    "\n",
    "# Векторы a и b\n",
    "a = np.array([[4], [8]])\n",
    "b = np.array([[7], [3]])\n",
    "\n",
    "# Вычисляем коэффициент B (проекция b на a)\n",
    "B = np.dot(a.T, b) / np.dot(a.T, a)\n",
    "b_parallel = B * a  # Проекция b на a\n",
    "b_perpendicular = b - b_parallel  # Ортогональная часть\n",
    "print(f\"Вектор a ортогонален b_perpendicular {np.dot(a.T, b_perpendicular)[0][0]}\")\n",
    "# Вывод результатов\n",
    "print(f\"Коэффициент B: {B[0, 0]:.4f}\")\n",
    "print(\"Проекция b на a:\\n\", b_parallel)\n",
    "print(\"Ортогональная часть b:\\n\", b_perpendicular)\n",
    "\n",
    "# Визуализация\n",
    "plt.axhline(0, color='gray', linewidth=0.5)\n",
    "plt.axvline(0, color='gray', linewidth=0.5)\n",
    "plt.grid(True, linestyle='--', alpha=0.5)\n",
    "\n",
    "# Рисуем векторы\n",
    "origin = np.array([[0], [0]])\n",
    "plt.quiver(*origin, *a, color='b', angles='xy', scale_units='xy', scale=1, label='Vector a')\n",
    "plt.quiver(*origin, *b, color='r', angles='xy', scale_units='xy', scale=1, label='Vector b')\n",
    "plt.quiver(*origin, *b_parallel, color='g', angles='xy', scale_units='xy', scale=1, label='Projection of b on a')\n",
    "plt.quiver(*b_parallel, *b_perpendicular, color='purple', angles='xy', scale_units='xy', scale=1, label='Orthogonal part')\n",
    "\n",
    "plt.xlim(-5, 15)\n",
    "plt.ylim(-5, 10)\n",
    "plt.legend()\n",
    "plt.show()\n",
    "\n"
   ],
   "id": "5bf59b2805083933",
   "outputs": [
    {
     "name": "stdout",
     "output_type": "stream",
     "text": [
      "Вектор a ортогонален b_perpendicular 0.0\n",
      "Коэффициент B: 0.6500\n",
      "Проекция b на a:\n",
      " [[2.6]\n",
      " [5.2]]\n",
      "Ортогональная часть b:\n",
      " [[ 4.4]\n",
      " [-2.2]]\n"
     ]
    },
    {
     "data": {
      "text/plain": [
       "<Figure size 640x480 with 1 Axes>"
      ],
      "image/png": "[encoded data removed]"
     },
     "metadata": {},
     "output_type": "display_data"
    }
   ],
   "execution_count": 129
  },
  {
   "metadata": {},
   "cell_type": "code",
   "outputs": [],
   "execution_count": null,
   "source": "",
   "id": "6899ec75ce4439aa"
  },
  {
   "metadata": {},
   "cell_type": "code",
   "outputs": [],
   "execution_count": null,
   "source": "",
   "id": "f529814cff5ecb13"
  }
 ],
 "metadata": {
  "kernelspec": {
   "display_name": "Python 3",
   "language": "python",
   "name": "python3"
  },
  "language_info": {
   "codemirror_mode": {
    "name": "ipython",
    "version": 2
   },
   "file_extension": ".py",
   "mimetype": "text/x-python",
   "name": "python",
   "nbconvert_exporter": "python",
   "pygments_lexer": "ipython2",
   "version": "2.7.6"
  }
 },
 "nbformat": 4,
 "nbformat_minor": 5
}
