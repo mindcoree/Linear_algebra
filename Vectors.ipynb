{
 "cells": [
  {
   "metadata": {},
   "cell_type": "markdown",
   "source": "# Practice on vectors in Linear Algebra ",
   "id": "235aeda1c7bd0d96"
  },
  {
   "metadata": {},
   "cell_type": "markdown",
   "source": "### Types of vector creation",
   "id": "a164051928adb523"
  },
  {
   "cell_type": "code",
   "id": "initial_id",
   "metadata": {
    "collapsed": true,
    "ExecuteTime": {
     "end_time": "2025-03-16T06:59:03.181829Z",
     "start_time": "2025-03-16T06:59:03.171313Z"
    }
   },
   "source": [
    "import numpy as np\n",
    "\n",
    "asList = [1,2,3]\n",
    "asArray = np.array([1,2,3])\n",
    "rowVector = np.array([ [1,2,3] ])\n",
    "columnVector = np.array([ [1],[2],[3] ])\n",
    "rowVector.T"
   ],
   "outputs": [
    {
     "data": {
      "text/plain": [
       "array([[1],\n",
       "       [2],\n",
       "       [3]])"
      ]
     },
     "execution_count": 13,
     "metadata": {},
     "output_type": "execute_result"
    }
   ],
   "execution_count": 13
  },
  {
   "metadata": {},
   "cell_type": "markdown",
   "source": "## Check out the outline",
   "id": "a9a491ccf6a48683"
  },
  {
   "metadata": {
    "ExecuteTime": {
     "end_time": "2025-03-16T06:59:09.051095Z",
     "start_time": "2025-03-16T06:59:09.042551Z"
    }
   },
   "cell_type": "code",
   "source": [
    "print(f\"asList:{np.shape(asList)}\")\n",
    "print(f\"asArray:{asArray.shape}\") \n",
    "print(f\"rowVector:{rowVector.shape}\")\n",
    "print(f\"columnVector:{columnVector.shape}\")\n",
    "rowVector"
   ],
   "id": "a6573891f58bdf64",
   "outputs": [
    {
     "name": "stdout",
     "output_type": "stream",
     "text": [
      "asList:(3,)\n",
      "asArray:(3,)\n",
      "rowVector:(1, 3)\n",
      "columnVector:(3, 1)\n"
     ]
    },
    {
     "data": {
      "text/plain": [
       "array([[1, 2, 3]])"
      ]
     },
     "execution_count": 14,
     "metadata": {},
     "output_type": "execute_result"
    }
   ],
   "execution_count": 14
  },
  {
   "metadata": {},
   "cell_type": "markdown",
   "source": "### Vector addition",
   "id": "5baca6bea04504fe"
  },
  {
   "metadata": {
    "ExecuteTime": {
     "end_time": "2025-03-16T06:53:43.603580Z",
     "start_time": "2025-03-16T06:53:42.304145Z"
    }
   },
   "cell_type": "code",
   "source": [
    "import numpy as np\n",
    "vec1 = np.array([[1],[2],[3]])\n",
    "vec2 = np.array([[10],[20],[30]])\n",
    "vec_add_1 = np.add(vec1,vec2)\n",
    "vec_add_2  = vec1 + vec2\n",
    "print(vec_add_1)"
   ],
   "id": "d1774389fca0de0",
   "outputs": [
    {
     "name": "stdout",
     "output_type": "stream",
     "text": [
      "[[11]\n",
      " [22]\n",
      " [33]]\n"
     ]
    }
   ],
   "execution_count": 2
  },
  {
   "metadata": {},
   "cell_type": "markdown",
   "source": "### Vector subtract",
   "id": "bc684cc4123d880"
  },
  {
   "metadata": {
    "ExecuteTime": {
     "end_time": "2025-03-15T15:08:05.342090Z",
     "start_time": "2025-03-15T15:08:05.336308Z"
    }
   },
   "cell_type": "code",
   "source": [
    "vec1 = np.array([[1],[2],[3]])\n",
    "vec2 = np.array([[10],[20],[30]])\n",
    "vec_sub_1 = np.subtract(vec2,vec1)\n",
    "vec_sub_2 = vec2 - vec1\n",
    "print(vec_sub_2)"
   ],
   "id": "478801912fbea1ad",
   "outputs": [
    {
     "name": "stdout",
     "output_type": "stream",
     "text": [
      "[[ 8]\n",
      " [18]\n",
      " [28]]\n"
     ]
    }
   ],
   "execution_count": 31
  },
  {
   "metadata": {},
   "cell_type": "markdown",
   "source": "### vector multiplication by scalar",
   "id": "f9340037d6c5dd9a"
  },
  {
   "metadata": {
    "ExecuteTime": {
     "end_time": "2025-03-15T15:30:36.490170Z",
     "start_time": "2025-03-15T15:30:36.475603Z"
    }
   },
   "cell_type": "code",
   "source": [
    "vector = np.array([ [2,10,9] ])\n",
    "scalar = 5\n",
    "print(np.multiply(vector,5))\n",
    "print(vector * scalar)"
   ],
   "id": "7a79b0ac911aa793",
   "outputs": [
    {
     "name": "stdout",
     "output_type": "stream",
     "text": [
      "[[10 50 45]]\n",
      "[[10 50 45]]\n"
     ]
    }
   ],
   "execution_count": 33
  },
  {
   "metadata": {},
   "cell_type": "markdown",
   "source": "### Vector norm and mathematical dimension",
   "id": "eb7d62edd5c8a442"
  },
  {
   "metadata": {
    "ExecuteTime": {
     "end_time": "2025-03-15T20:13:07.291357Z",
     "start_time": "2025-03-15T20:13:07.285991Z"
    }
   },
   "cell_type": "code",
   "source": [
    "vector = np.array([1, 2, 3, 7, 8, 9])\n",
    "vector_math_dimension = len(vector) #length\n",
    "vector_norm = np.linalg.norm(vector)\n",
    "print(vector_norm)\n",
    "print(vector_math_dimension)\n",
    "zero_vector = np.multiply(vector,1/vector_norm)\n",
    "print(zero_vector)\n",
    "print(np.linalg.norm(zero_vector))"
   ],
   "id": "3bb68d586a2ca720",
   "outputs": [
    {
     "name": "stdout",
     "output_type": "stream",
     "text": [
      "14.422205101855956\n",
      "6\n",
      "[0.06933752 0.13867505 0.20801257 0.48536267 0.5547002  0.62403772]\n",
      "1.0\n"
     ]
    }
   ],
   "execution_count": 14
  },
  {
   "metadata": {},
   "cell_type": "markdown",
   "source": "### Dot product of vectors",
   "id": "ded30daafe6e456d"
  },
  {
   "metadata": {
    "ExecuteTime": {
     "end_time": "2025-03-16T06:57:22.499065Z",
     "start_time": "2025-03-16T06:57:22.489265Z"
    }
   },
   "cell_type": "code",
   "source": [
    "vector_first = np.array([1,2,3,4])\n",
    "vector_second = np.array([5,6,7,8])\n",
    "print(np.dot(vector_first,vector_second))\n",
    "res_number = 0\n",
    "res_list = list()\n",
    "for index in range(len(vector_second)):\n",
    "    res_number += vector_second[index]*vector_first[index]\n",
    "    res_list.append(vector_second[index]*vector_first[index])\n",
    "else:\n",
    "    res_list = sum(res_list)\n",
    "print(res_list,res_number)\n"
   ],
   "id": "da436f3fb702fd86",
   "outputs": [
    {
     "name": "stdout",
     "output_type": "stream",
     "text": [
      "70\n",
      "70 70\n"
     ]
    }
   ],
   "execution_count": 10
  },
  {
   "metadata": {},
   "cell_type": "code",
   "outputs": [],
   "execution_count": null,
   "source": "",
   "id": "6b64f2952578663c"
  }
 ],
 "metadata": {
  "kernelspec": {
   "display_name": "Python 3",
   "language": "python",
   "name": "python3"
  },
  "language_info": {
   "codemirror_mode": {
    "name": "ipython",
    "version": 2
   },
   "file_extension": ".py",
   "mimetype": "text/x-python",
   "name": "python",
   "nbconvert_exporter": "python",
   "pygments_lexer": "ipython2",
   "version": "2.7.6"
  }
 },
 "nbformat": 4,
 "nbformat_minor": 5
}
